{
 "cells": [
  {
   "cell_type": "markdown",
   "metadata": {},
   "source": [
    "## MSBC 5070 Survey for Business Analytics \n",
    "\n",
    "# Final Group Project Report"
   ]
  },
  {
   "cell_type": "markdown",
   "metadata": {},
   "source": [
    "<b>Group Members:</b>  Michael Anthony, Samuel Statton, Yubing Yang and Bonnie Tang\n",
    "\n",
    "<b>Section:</b> MW 9am to 12:15pm"
   ]
  },
  {
   "cell_type": "markdown",
   "metadata": {},
   "source": [
    "## Project Overview"
   ]
  },
  {
   "cell_type": "markdown",
   "metadata": {},
   "source": [
    "Emerging markets are a critical part of the global economy; understanding consumer behavior in emerging markets can open high ROI opportunities and offer insights in the future of global trade.\n",
    "\n",
    "For this project we studied consumer behavior in Myanmar by analyzing data from three super markets in Myanmar located in different cities. These markets collected data for three months and recorded attributes including a timestamp of the transaction,the product line of the transaction (such as health an beauty, food and beverage, etc), the gender of the buyer, membership status, branch/city of the transaction, and the purchase method (cash, credit, digital).\n",
    "\n",
    "This data was publicly available and can be accesed by following this link:\n",
    "https://www.kaggle.com/aungpyaeap/supermarket-sales\n",
    "\n",
    "It is possible that the kaggle data set could be altered or move locations, the original csv can be accessed here:\n",
    "https://drive.google.com/file/d/1S3NcAt-6u9GBJsb0sTkfTXL6B0hcmF3P/view?usp=sharing"
   ]
  },
  {
   "cell_type": "markdown",
   "metadata": {},
   "source": [
    "## Data Cleaning and Structuring"
   ]
  },
  {
   "cell_type": "markdown",
   "metadata": {},
   "source": [
    "#### Import Libraries"
   ]
  },
  {
   "cell_type": "code",
   "execution_count": 2,
   "metadata": {},
   "outputs": [],
   "source": [
    "import pandas as pd, numpy as np, seaborn as sns\n",
    "from datetime import datetime\n",
    "import matplotlib.mlab as mlab  \n",
    "import matplotlib.pyplot as plt \n",
    "from plotnine import *\n",
    "import calendar as cl\n",
    "import matplotlib.pyplot as plt\n",
    "import seaborn as sns\n",
    "%matplotlib inline\n",
    "\n",
    "\n",
    "from IPython.core.interactiveshell import InteractiveShell\n",
    "InteractiveShell.ast_node_interactivity = \"all\""
   ]
  },
  {
   "cell_type": "markdown",
   "metadata": {},
   "source": [
    "#### Importing the Data"
   ]
  },
  {
   "cell_type": "code",
   "execution_count": 3,
   "metadata": {},
   "outputs": [
    {
     "data": {
      "text/html": [
       "<div>\n",
       "<style scoped>\n",
       "    .dataframe tbody tr th:only-of-type {\n",
       "        vertical-align: middle;\n",
       "    }\n",
       "\n",
       "    .dataframe tbody tr th {\n",
       "        vertical-align: top;\n",
       "    }\n",
       "\n",
       "    .dataframe thead th {\n",
       "        text-align: right;\n",
       "    }\n",
       "</style>\n",
       "<table border=\"1\" class=\"dataframe\">\n",
       "  <thead>\n",
       "    <tr style=\"text-align: right;\">\n",
       "      <th></th>\n",
       "      <th>Invoice ID</th>\n",
       "      <th>Branch</th>\n",
       "      <th>City</th>\n",
       "      <th>Customer type</th>\n",
       "      <th>Gender</th>\n",
       "      <th>Product line</th>\n",
       "      <th>Unit price</th>\n",
       "      <th>Quantity</th>\n",
       "      <th>Tax 5%</th>\n",
       "      <th>Total</th>\n",
       "      <th>Date</th>\n",
       "      <th>Time</th>\n",
       "      <th>Payment</th>\n",
       "      <th>cogs</th>\n",
       "      <th>gross margin percentage</th>\n",
       "      <th>gross income</th>\n",
       "      <th>Rating</th>\n",
       "    </tr>\n",
       "  </thead>\n",
       "  <tbody>\n",
       "    <tr>\n",
       "      <th>0</th>\n",
       "      <td>750-67-8428</td>\n",
       "      <td>A</td>\n",
       "      <td>Yangon</td>\n",
       "      <td>Member</td>\n",
       "      <td>Female</td>\n",
       "      <td>Health and beauty</td>\n",
       "      <td>74.69</td>\n",
       "      <td>7</td>\n",
       "      <td>26.1415</td>\n",
       "      <td>548.9715</td>\n",
       "      <td>1/5/2019</td>\n",
       "      <td>13:08</td>\n",
       "      <td>Ewallet</td>\n",
       "      <td>522.83</td>\n",
       "      <td>4.761905</td>\n",
       "      <td>26.1415</td>\n",
       "      <td>9.1</td>\n",
       "    </tr>\n",
       "    <tr>\n",
       "      <th>1</th>\n",
       "      <td>226-31-3081</td>\n",
       "      <td>C</td>\n",
       "      <td>Naypyitaw</td>\n",
       "      <td>Normal</td>\n",
       "      <td>Female</td>\n",
       "      <td>Electronic accessories</td>\n",
       "      <td>15.28</td>\n",
       "      <td>5</td>\n",
       "      <td>3.8200</td>\n",
       "      <td>80.2200</td>\n",
       "      <td>3/8/2019</td>\n",
       "      <td>10:29</td>\n",
       "      <td>Cash</td>\n",
       "      <td>76.40</td>\n",
       "      <td>4.761905</td>\n",
       "      <td>3.8200</td>\n",
       "      <td>9.6</td>\n",
       "    </tr>\n",
       "    <tr>\n",
       "      <th>2</th>\n",
       "      <td>631-41-3108</td>\n",
       "      <td>A</td>\n",
       "      <td>Yangon</td>\n",
       "      <td>Normal</td>\n",
       "      <td>Male</td>\n",
       "      <td>Home and lifestyle</td>\n",
       "      <td>46.33</td>\n",
       "      <td>7</td>\n",
       "      <td>16.2155</td>\n",
       "      <td>340.5255</td>\n",
       "      <td>3/3/2019</td>\n",
       "      <td>13:23</td>\n",
       "      <td>Credit card</td>\n",
       "      <td>324.31</td>\n",
       "      <td>4.761905</td>\n",
       "      <td>16.2155</td>\n",
       "      <td>7.4</td>\n",
       "    </tr>\n",
       "    <tr>\n",
       "      <th>3</th>\n",
       "      <td>123-19-1176</td>\n",
       "      <td>A</td>\n",
       "      <td>Yangon</td>\n",
       "      <td>Member</td>\n",
       "      <td>Male</td>\n",
       "      <td>Health and beauty</td>\n",
       "      <td>58.22</td>\n",
       "      <td>8</td>\n",
       "      <td>23.2880</td>\n",
       "      <td>489.0480</td>\n",
       "      <td>1/27/2019</td>\n",
       "      <td>20:33</td>\n",
       "      <td>Ewallet</td>\n",
       "      <td>465.76</td>\n",
       "      <td>4.761905</td>\n",
       "      <td>23.2880</td>\n",
       "      <td>8.4</td>\n",
       "    </tr>\n",
       "    <tr>\n",
       "      <th>4</th>\n",
       "      <td>373-73-7910</td>\n",
       "      <td>A</td>\n",
       "      <td>Yangon</td>\n",
       "      <td>Normal</td>\n",
       "      <td>Male</td>\n",
       "      <td>Sports and travel</td>\n",
       "      <td>86.31</td>\n",
       "      <td>7</td>\n",
       "      <td>30.2085</td>\n",
       "      <td>634.3785</td>\n",
       "      <td>2/8/2019</td>\n",
       "      <td>10:37</td>\n",
       "      <td>Ewallet</td>\n",
       "      <td>604.17</td>\n",
       "      <td>4.761905</td>\n",
       "      <td>30.2085</td>\n",
       "      <td>5.3</td>\n",
       "    </tr>\n",
       "  </tbody>\n",
       "</table>\n",
       "</div>"
      ],
      "text/plain": [
       "    Invoice ID Branch       City Customer type  Gender  \\\n",
       "0  750-67-8428      A     Yangon        Member  Female   \n",
       "1  226-31-3081      C  Naypyitaw        Normal  Female   \n",
       "2  631-41-3108      A     Yangon        Normal    Male   \n",
       "3  123-19-1176      A     Yangon        Member    Male   \n",
       "4  373-73-7910      A     Yangon        Normal    Male   \n",
       "\n",
       "             Product line  Unit price  Quantity   Tax 5%     Total       Date  \\\n",
       "0       Health and beauty       74.69         7  26.1415  548.9715   1/5/2019   \n",
       "1  Electronic accessories       15.28         5   3.8200   80.2200   3/8/2019   \n",
       "2      Home and lifestyle       46.33         7  16.2155  340.5255   3/3/2019   \n",
       "3       Health and beauty       58.22         8  23.2880  489.0480  1/27/2019   \n",
       "4       Sports and travel       86.31         7  30.2085  634.3785   2/8/2019   \n",
       "\n",
       "    Time      Payment    cogs  gross margin percentage  gross income  Rating  \n",
       "0  13:08      Ewallet  522.83                 4.761905       26.1415     9.1  \n",
       "1  10:29         Cash   76.40                 4.761905        3.8200     9.6  \n",
       "2  13:23  Credit card  324.31                 4.761905       16.2155     7.4  \n",
       "3  20:33      Ewallet  465.76                 4.761905       23.2880     8.4  \n",
       "4  10:37      Ewallet  604.17                 4.761905       30.2085     5.3  "
      ]
     },
     "execution_count": 3,
     "metadata": {},
     "output_type": "execute_result"
    }
   ],
   "source": [
    "#Save the CSV to the same directry as this jupyter file\n",
    "#read in the file and view the data\n",
    "shop=pd.read_csv('supermarket_sales - Sheet1.csv')\n",
    "shop.head()"
   ]
  },
  {
   "cell_type": "markdown",
   "metadata": {},
   "source": [
    "After loading and viewing the data we can made a few data quality observations, we noticed many attributes were categorical such as gender, product line and payment method. We also noticed both branch and city were listed which were equivalent and redundant for our analysis."
   ]
  },
  {
   "cell_type": "markdown",
   "metadata": {},
   "source": [
    "#### Data Cleaning and Structring"
   ]
  },
  {
   "cell_type": "markdown",
   "metadata": {},
   "source": [
    "We took three steps to clean the data set:\n",
    "1. Changed column names to easy to use abreviated versions\n",
    "- Converted non-numeric categorical data to numeric data\n",
    "- Converted dates to datetime format"
   ]
  },
  {
   "cell_type": "code",
   "execution_count": 4,
   "metadata": {},
   "outputs": [
    {
     "data": {
      "text/html": [
       "<div>\n",
       "<style scoped>\n",
       "    .dataframe tbody tr th:only-of-type {\n",
       "        vertical-align: middle;\n",
       "    }\n",
       "\n",
       "    .dataframe tbody tr th {\n",
       "        vertical-align: top;\n",
       "    }\n",
       "\n",
       "    .dataframe thead th {\n",
       "        text-align: right;\n",
       "    }\n",
       "</style>\n",
       "<table border=\"1\" class=\"dataframe\">\n",
       "  <thead>\n",
       "    <tr style=\"text-align: right;\">\n",
       "      <th></th>\n",
       "      <th>unit_price</th>\n",
       "      <th>qty</th>\n",
       "      <th>tax_5</th>\n",
       "      <th>total</th>\n",
       "      <th>time</th>\n",
       "      <th>cogs</th>\n",
       "      <th>gmp</th>\n",
       "      <th>g_income</th>\n",
       "      <th>rating</th>\n",
       "      <th>cust_type_Member</th>\n",
       "      <th>...</th>\n",
       "      <th>fashion</th>\n",
       "      <th>food_beverages</th>\n",
       "      <th>health_beauty</th>\n",
       "      <th>home_lifestyle</th>\n",
       "      <th>sports_travel</th>\n",
       "      <th>female</th>\n",
       "      <th>male</th>\n",
       "      <th>cash</th>\n",
       "      <th>credit_card</th>\n",
       "      <th>ewallet</th>\n",
       "    </tr>\n",
       "  </thead>\n",
       "  <tbody>\n",
       "    <tr>\n",
       "      <th>count</th>\n",
       "      <td>1000.000000</td>\n",
       "      <td>1000.000000</td>\n",
       "      <td>1000.000000</td>\n",
       "      <td>1000.000000</td>\n",
       "      <td>1000</td>\n",
       "      <td>1000.00000</td>\n",
       "      <td>1.000000e+03</td>\n",
       "      <td>1000.000000</td>\n",
       "      <td>1000.00000</td>\n",
       "      <td>1000.000000</td>\n",
       "      <td>...</td>\n",
       "      <td>1000.000000</td>\n",
       "      <td>1000.000000</td>\n",
       "      <td>1000.000000</td>\n",
       "      <td>1000.000000</td>\n",
       "      <td>1000.000000</td>\n",
       "      <td>1000.000000</td>\n",
       "      <td>1000.000000</td>\n",
       "      <td>1000.000000</td>\n",
       "      <td>1000.000000</td>\n",
       "      <td>1000.000000</td>\n",
       "    </tr>\n",
       "    <tr>\n",
       "      <th>mean</th>\n",
       "      <td>55.672130</td>\n",
       "      <td>5.510000</td>\n",
       "      <td>15.379369</td>\n",
       "      <td>322.966749</td>\n",
       "      <td>0 days 15:24:41.880000</td>\n",
       "      <td>307.58738</td>\n",
       "      <td>4.761905e+00</td>\n",
       "      <td>15.379369</td>\n",
       "      <td>6.97270</td>\n",
       "      <td>0.501000</td>\n",
       "      <td>...</td>\n",
       "      <td>0.178000</td>\n",
       "      <td>0.174000</td>\n",
       "      <td>0.152000</td>\n",
       "      <td>0.160000</td>\n",
       "      <td>0.166000</td>\n",
       "      <td>0.501000</td>\n",
       "      <td>0.499000</td>\n",
       "      <td>0.344000</td>\n",
       "      <td>0.311000</td>\n",
       "      <td>0.345000</td>\n",
       "    </tr>\n",
       "    <tr>\n",
       "      <th>std</th>\n",
       "      <td>26.494628</td>\n",
       "      <td>2.923431</td>\n",
       "      <td>11.708825</td>\n",
       "      <td>245.885335</td>\n",
       "      <td>0 days 03:11:31.667297</td>\n",
       "      <td>234.17651</td>\n",
       "      <td>6.220360e-14</td>\n",
       "      <td>11.708825</td>\n",
       "      <td>1.71858</td>\n",
       "      <td>0.500249</td>\n",
       "      <td>...</td>\n",
       "      <td>0.382704</td>\n",
       "      <td>0.379299</td>\n",
       "      <td>0.359201</td>\n",
       "      <td>0.366789</td>\n",
       "      <td>0.372267</td>\n",
       "      <td>0.500249</td>\n",
       "      <td>0.500249</td>\n",
       "      <td>0.475279</td>\n",
       "      <td>0.463134</td>\n",
       "      <td>0.475606</td>\n",
       "    </tr>\n",
       "    <tr>\n",
       "      <th>min</th>\n",
       "      <td>10.080000</td>\n",
       "      <td>1.000000</td>\n",
       "      <td>0.508500</td>\n",
       "      <td>10.678500</td>\n",
       "      <td>0 days 10:00:00</td>\n",
       "      <td>10.17000</td>\n",
       "      <td>4.761905e+00</td>\n",
       "      <td>0.508500</td>\n",
       "      <td>4.00000</td>\n",
       "      <td>0.000000</td>\n",
       "      <td>...</td>\n",
       "      <td>0.000000</td>\n",
       "      <td>0.000000</td>\n",
       "      <td>0.000000</td>\n",
       "      <td>0.000000</td>\n",
       "      <td>0.000000</td>\n",
       "      <td>0.000000</td>\n",
       "      <td>0.000000</td>\n",
       "      <td>0.000000</td>\n",
       "      <td>0.000000</td>\n",
       "      <td>0.000000</td>\n",
       "    </tr>\n",
       "    <tr>\n",
       "      <th>25%</th>\n",
       "      <td>32.875000</td>\n",
       "      <td>3.000000</td>\n",
       "      <td>5.924875</td>\n",
       "      <td>124.422375</td>\n",
       "      <td>0 days 12:43:00</td>\n",
       "      <td>118.49750</td>\n",
       "      <td>4.761905e+00</td>\n",
       "      <td>5.924875</td>\n",
       "      <td>5.50000</td>\n",
       "      <td>0.000000</td>\n",
       "      <td>...</td>\n",
       "      <td>0.000000</td>\n",
       "      <td>0.000000</td>\n",
       "      <td>0.000000</td>\n",
       "      <td>0.000000</td>\n",
       "      <td>0.000000</td>\n",
       "      <td>0.000000</td>\n",
       "      <td>0.000000</td>\n",
       "      <td>0.000000</td>\n",
       "      <td>0.000000</td>\n",
       "      <td>0.000000</td>\n",
       "    </tr>\n",
       "  </tbody>\n",
       "</table>\n",
       "<p>5 rows × 22 columns</p>\n",
       "</div>"
      ],
      "text/plain": [
       "        unit_price          qty        tax_5        total  \\\n",
       "count  1000.000000  1000.000000  1000.000000  1000.000000   \n",
       "mean     55.672130     5.510000    15.379369   322.966749   \n",
       "std      26.494628     2.923431    11.708825   245.885335   \n",
       "min      10.080000     1.000000     0.508500    10.678500   \n",
       "25%      32.875000     3.000000     5.924875   124.422375   \n",
       "\n",
       "                         time        cogs           gmp     g_income  \\\n",
       "count                    1000  1000.00000  1.000000e+03  1000.000000   \n",
       "mean   0 days 15:24:41.880000   307.58738  4.761905e+00    15.379369   \n",
       "std    0 days 03:11:31.667297   234.17651  6.220360e-14    11.708825   \n",
       "min           0 days 10:00:00    10.17000  4.761905e+00     0.508500   \n",
       "25%           0 days 12:43:00   118.49750  4.761905e+00     5.924875   \n",
       "\n",
       "           rating  cust_type_Member  ...      fashion  food_beverages  \\\n",
       "count  1000.00000       1000.000000  ...  1000.000000     1000.000000   \n",
       "mean      6.97270          0.501000  ...     0.178000        0.174000   \n",
       "std       1.71858          0.500249  ...     0.382704        0.379299   \n",
       "min       4.00000          0.000000  ...     0.000000        0.000000   \n",
       "25%       5.50000          0.000000  ...     0.000000        0.000000   \n",
       "\n",
       "       health_beauty  home_lifestyle  sports_travel       female         male  \\\n",
       "count    1000.000000     1000.000000    1000.000000  1000.000000  1000.000000   \n",
       "mean        0.152000        0.160000       0.166000     0.501000     0.499000   \n",
       "std         0.359201        0.366789       0.372267     0.500249     0.500249   \n",
       "min         0.000000        0.000000       0.000000     0.000000     0.000000   \n",
       "25%         0.000000        0.000000       0.000000     0.000000     0.000000   \n",
       "\n",
       "              cash  credit_card      ewallet  \n",
       "count  1000.000000  1000.000000  1000.000000  \n",
       "mean      0.344000     0.311000     0.345000  \n",
       "std       0.475279     0.463134     0.475606  \n",
       "min       0.000000     0.000000     0.000000  \n",
       "25%       0.000000     0.000000     0.000000  \n",
       "\n",
       "[5 rows x 22 columns]"
      ]
     },
     "execution_count": 4,
     "metadata": {},
     "output_type": "execute_result"
    }
   ],
   "source": [
    "#Supermarket column rename\n",
    "ss=shop.copy() # create a copy\n",
    "ss.rename(columns={\n",
    "    'Invoice ID':'invoice_id','Branch':'branch','City':'city','Customer type':'cust_type','Gender':'gender',\\\n",
    "    'Product line':'product_line','Unit price':'unit_price','Quantity':'qty','Tax 5%':'tax_5','Total':'total',\\\n",
    "    'Date':'date','Time':'time','Payment':'payment','gross margin percentage':'gmp','gross income':'g_income',\\\n",
    "    'Rating':'rating'},inplace=True) \n",
    "\n",
    "#change date and time columns to DateTime & Timedelta\n",
    "ss.date = pd.to_datetime(ss.date)\n",
    "ss.time = pd.to_timedelta(ss.time+':00')\n",
    "\n",
    "#create dummy columns\n",
    "dum= pd.get_dummies(ss,columns=['cust_type','gender','product_line','payment'])\n",
    "\n",
    "dumTime = pd.get_dummies(ss,columns=['cust_type','product_line','gender','payment'])\n",
    "dumTime.columns.values[-11:]=['electronics',\n",
    "                              'fashion',\n",
    "                              'food_beverages',\n",
    "                              'health_beauty',\n",
    "                              'home_lifestyle',\n",
    "                              'sports_travel',\n",
    "                              'female',\n",
    "                              'male',\n",
    "                              'cash',\n",
    "                              'credit_card',\n",
    "                              'ewallet']\n",
    "#view statistics for new data set\n",
    "dumTime.describe().head()"
   ]
  },
  {
   "cell_type": "markdown",
   "metadata": {},
   "source": [
    "## Trends"
   ]
  },
  {
   "cell_type": "markdown",
   "metadata": {},
   "source": [
    "#### Sales totals by Product Line\n"
   ]
  },
  {
   "cell_type": "code",
   "execution_count": 5,
   "metadata": {},
   "outputs": [
    {
     "data": {
      "text/plain": [
       "<seaborn.axisgrid.FacetGrid at 0x1cc456a2b00>"
      ]
     },
     "execution_count": 5,
     "metadata": {},
     "output_type": "execute_result"
    },
    {
     "data": {
      "image/png": "[encoded data removed]",
      "text/plain": [
       "<Figure size 720x360 with 1 Axes>"
      ]
     },
     "metadata": {
      "needs_background": "light"
     },
     "output_type": "display_data"
    }
   ],
   "source": [
    "ax=sns.catplot(x='total',y='product_line', data=ss, kind='box', aspect = 2)\n",
    "ax.set(xlabel='sales totals', ylabel='Product Line')\n",
    "plt.show()"
   ]
  },
  {
   "cell_type": "markdown",
   "metadata": {},
   "source": [
    "#### Purchasing Trends by Gender\n",
    "\n",
    "Based on the horizontal bar chart of \"Total Sales for Prooduct Lines by Gender\", \"Sports and travel\" and \"Electronic accessories\" product lines has similar sales volumns on males and females.\n",
    "\n",
    "Female populations are much larger than males for three productlines: \"Home and lifesyle\", \"Food and beverages\", and \"Fashion accessories\".\n",
    "\n",
    "Only \"Health and beauty\" product line has obviously more population on males."
   ]
  },
  {
   "cell_type": "code",
   "execution_count": 6,
   "metadata": {},
   "outputs": [
    {
     "data": {
      "text/plain": [
       "Text(0.5, 1.0, 'Total Sales for Prooduct Lines by Gender')"
      ]
     },
     "execution_count": 6,
     "metadata": {},
     "output_type": "execute_result"
    },
    {
     "data": {
      "text/plain": [
       "<matplotlib.legend.Legend at 0x1cc4ba59f98>"
      ]
     },
     "execution_count": 6,
     "metadata": {},
     "output_type": "execute_result"
    },
    {
     "data": {
      "text/plain": [
       "(array([    0.,  5000., 10000., 15000., 20000., 25000., 30000., 35000.]),\n",
       " <a list of 8 Text xticklabel objects>)"
      ]
     },
     "execution_count": 6,
     "metadata": {},
     "output_type": "execute_result"
    },
    {
     "data": {
      "text/plain": [
       "([<matplotlib.axis.YTick at 0x1cc4b5b4fd0>,\n",
       "  <matplotlib.axis.YTick at 0x1cc4ba1c5f8>,\n",
       "  <matplotlib.axis.YTick at 0x1cc4ba59e80>,\n",
       "  <matplotlib.axis.YTick at 0x1cc4ba67128>,\n",
       "  <matplotlib.axis.YTick at 0x1cc4ba67908>,\n",
       "  <matplotlib.axis.YTick at 0x1cc4ba67dd8>],\n",
       " <a list of 6 Text yticklabel objects>)"
      ]
     },
     "execution_count": 6,
     "metadata": {},
     "output_type": "execute_result"
    },
    {
     "data": {
      "text/plain": [
       "Text(0.5, 0, 'Sales ($)')"
      ]
     },
     "execution_count": 6,
     "metadata": {},
     "output_type": "execute_result"
    },
    {
     "data": {
      "text/plain": [
       "Text(0, 0.5, 'Product Line')"
      ]
     },
     "execution_count": 6,
     "metadata": {},
     "output_type": "execute_result"
    },
    {
     "data": {
      "image/png": "[encoded data removed]",
      "text/plain": [
       "<Figure size 648x360 with 1 Axes>"
      ]
     },
     "metadata": {
      "needs_background": "light"
     },
     "output_type": "display_data"
    }
   ],
   "source": [
    "# Sales totals for Male and Female Customers by Product Line\n",
    "\n",
    "# Data\n",
    "plg_count=ss.groupby('product_line').apply(lambda x:x.groupby('gender')['total'].sum()).reset_index()\n",
    "plg_count.columns.name=''\n",
    "\n",
    "# Chart\n",
    "plg=plg_count.plot.barh(color=['pink','lightblue'],figsize=(9,5))\n",
    "y=np.arange(len(plg_count.index))\n",
    "ylabel=plg_count.iloc[:,0]\n",
    "plt.title('Total Sales for Prooduct Lines by Gender',fontsize=16,fontweight='bold')\n",
    "plt.legend(fontsize=14,loc=(1.05,0.4))\n",
    "#plt.xlim([0,100])\n",
    "plt.xticks(fontsize=12)\n",
    "plt.yticks(y,ylabel,fontsize=12)\n",
    "plt.xlabel('Sales ($)',fontsize=12,fontweight='bold')\n",
    "plt.ylabel('Product Line',fontsize=12,fontweight='bold')\n",
    "plt.savefig('salse_gender_productLine.png')"
   ]
  },
  {
   "cell_type": "markdown",
   "metadata": {},
   "source": [
    "#### Most and Least Popular Product Line' by Gender\n",
    "\n",
    "According to the tables shown below, the most poplular product line for femals is \"Fashion accessories\"; \n",
    "and the most popular product line for males is \"Health and beauty\".\n",
    "\n",
    "The least poplular product line for females is \"Health and beauty\"; \n",
    "and the leat poplular product line for males is \"Sports and travel\"."
   ]
  },
  {
   "cell_type": "code",
   "execution_count": 7,
   "metadata": {},
   "outputs": [
    {
     "data": {
      "text/html": [
       "<div>\n",
       "<style scoped>\n",
       "    .dataframe tbody tr th:only-of-type {\n",
       "        vertical-align: middle;\n",
       "    }\n",
       "\n",
       "    .dataframe tbody tr th {\n",
       "        vertical-align: top;\n",
       "    }\n",
       "\n",
       "    .dataframe thead th {\n",
       "        text-align: right;\n",
       "    }\n",
       "</style>\n",
       "<table border=\"1\" class=\"dataframe\">\n",
       "  <thead>\n",
       "    <tr style=\"text-align: right;\">\n",
       "      <th></th>\n",
       "      <th></th>\n",
       "      <th>size</th>\n",
       "    </tr>\n",
       "    <tr>\n",
       "      <th>gender</th>\n",
       "      <th>product_line</th>\n",
       "      <th></th>\n",
       "    </tr>\n",
       "  </thead>\n",
       "  <tbody>\n",
       "    <tr>\n",
       "      <th>Female</th>\n",
       "      <th>Fashion accessories</th>\n",
       "      <td>96</td>\n",
       "    </tr>\n",
       "    <tr>\n",
       "      <th>Male</th>\n",
       "      <th>Health and beauty</th>\n",
       "      <td>88</td>\n",
       "    </tr>\n",
       "  </tbody>\n",
       "</table>\n",
       "</div>"
      ],
      "text/plain": [
       "                            size\n",
       "gender product_line             \n",
       "Female Fashion accessories    96\n",
       "Male   Health and beauty      88"
      ]
     },
     "execution_count": 7,
     "metadata": {},
     "output_type": "execute_result"
    },
    {
     "data": {
      "text/html": [
       "<div>\n",
       "<style scoped>\n",
       "    .dataframe tbody tr th:only-of-type {\n",
       "        vertical-align: middle;\n",
       "    }\n",
       "\n",
       "    .dataframe tbody tr th {\n",
       "        vertical-align: top;\n",
       "    }\n",
       "\n",
       "    .dataframe thead th {\n",
       "        text-align: right;\n",
       "    }\n",
       "</style>\n",
       "<table border=\"1\" class=\"dataframe\">\n",
       "  <thead>\n",
       "    <tr style=\"text-align: right;\">\n",
       "      <th></th>\n",
       "      <th></th>\n",
       "      <th>size</th>\n",
       "    </tr>\n",
       "    <tr>\n",
       "      <th>gender</th>\n",
       "      <th>product_line</th>\n",
       "      <th></th>\n",
       "    </tr>\n",
       "  </thead>\n",
       "  <tbody>\n",
       "    <tr>\n",
       "      <th>Female</th>\n",
       "      <th>Health and beauty</th>\n",
       "      <td>64</td>\n",
       "    </tr>\n",
       "    <tr>\n",
       "      <th>Male</th>\n",
       "      <th>Sports and travel</th>\n",
       "      <td>78</td>\n",
       "    </tr>\n",
       "  </tbody>\n",
       "</table>\n",
       "</div>"
      ],
      "text/plain": [
       "                          size\n",
       "gender product_line           \n",
       "Female Health and beauty    64\n",
       "Male   Sports and travel    78"
      ]
     },
     "execution_count": 7,
     "metadata": {},
     "output_type": "execute_result"
    }
   ],
   "source": [
    "# the most popular product line of male and female\n",
    "a=ss.groupby('gender').apply(lambda x:x.groupby('product_line')['product_line'].size().nlargest(1)).to_frame()\n",
    "a.rename(columns={'product_line':'size'})\n",
    "# the least polular product line of male and female\n",
    "b=ss.groupby('gender').apply(lambda x:x.groupby('product_line')['product_line'].size().nsmallest(1)).to_frame()\n",
    "b.rename(columns={'product_line':'size'})"
   ]
  },
  {
   "cell_type": "markdown",
   "metadata": {},
   "source": [
    "#### Shoper Counts by Time of Day\n",
    "\n",
    "Shopping time is categorized to four time periods of a day: morning, near noon, afternoon and evening. Different shopping time has tramendously different population volumns. Based on the dataset, most people goes to supermarket in afternoon; and the fewest people goes to supermarket at near noon because it's normal lunch time. Evening is the second popluar time for people going shopping (results are shown by bar chart below)."
   ]
  },
  {
   "cell_type": "code",
   "execution_count": 8,
   "metadata": {},
   "outputs": [
    {
     "data": {
      "text/html": [
       "<div>\n",
       "<style scoped>\n",
       "    .dataframe tbody tr th:only-of-type {\n",
       "        vertical-align: middle;\n",
       "    }\n",
       "\n",
       "    .dataframe tbody tr th {\n",
       "        vertical-align: top;\n",
       "    }\n",
       "\n",
       "    .dataframe thead th {\n",
       "        text-align: right;\n",
       "    }\n",
       "</style>\n",
       "<table border=\"1\" class=\"dataframe\">\n",
       "  <thead>\n",
       "    <tr style=\"text-align: right;\">\n",
       "      <th></th>\n",
       "      <th>period</th>\n",
       "      <th>period_</th>\n",
       "    </tr>\n",
       "  </thead>\n",
       "  <tbody>\n",
       "    <tr>\n",
       "      <th>0</th>\n",
       "      <td>143</td>\n",
       "      <td>A: morning</td>\n",
       "    </tr>\n",
       "    <tr>\n",
       "      <th>1</th>\n",
       "      <td>87</td>\n",
       "      <td>B: near noon</td>\n",
       "    </tr>\n",
       "    <tr>\n",
       "      <th>2</th>\n",
       "      <td>489</td>\n",
       "      <td>C: afternoon</td>\n",
       "    </tr>\n",
       "    <tr>\n",
       "      <th>3</th>\n",
       "      <td>281</td>\n",
       "      <td>D: evening</td>\n",
       "    </tr>\n",
       "  </tbody>\n",
       "</table>\n",
       "</div>"
      ],
      "text/plain": [
       "   period       period_\n",
       "0     143    A: morning\n",
       "1      87  B: near noon\n",
       "2     489  C: afternoon\n",
       "3     281    D: evening"
      ]
     },
     "execution_count": 8,
     "metadata": {},
     "output_type": "execute_result"
    }
   ],
   "source": [
    "# extract columns: genter and time from ss\n",
    "import datetime as dt\n",
    "ss['period']=ss.time.apply(lambda x: 'A: morning' if x < dt.timedelta(hours=11,minutes=30)\\\n",
    "                                 else 'B: near noon' if x < dt.timedelta(hours=12,minutes=30)\\\n",
    "                                 else 'C: afternoon' if x < dt.timedelta(hours=18,minutes=0)\\\n",
    "                                 else 'D: evening')\n",
    "# count populations shopping in different time periods\n",
    "pn=ss.groupby('period')['period'].size().to_frame()\n",
    "pn['period_']=pn.index\n",
    "pn=pn.reset_index(drop=True)\n",
    "pn"
   ]
  },
  {
   "cell_type": "code",
   "execution_count": 9,
   "metadata": {},
   "outputs": [],
   "source": [
    "# define a function to label bar charts\n",
    "def autolabel(rects):\n",
    "    #add value labels to each bar\n",
    "    for rect in rects:\n",
    "        x_value = rect.get_width()\n",
    "        y_value = rect.get_y() + rect.get_height() / 2\n",
    "        space=5\n",
    "        plt.annotate(x_value,(x_value, y_value),xytext=(space, 0),\n",
    "                     textcoords=\"offset points\",va='center',fontsize=13) "
   ]
  },
  {
   "cell_type": "code",
   "execution_count": 10,
   "metadata": {},
   "outputs": [
    {
     "data": {
      "text/plain": [
       "Text(0.5, 1.0, 'Population Shopping in Different Time Period')"
      ]
     },
     "execution_count": 10,
     "metadata": {},
     "output_type": "execute_result"
    },
    {
     "data": {
      "text/plain": [
       "(0, 600)"
      ]
     },
     "execution_count": 10,
     "metadata": {},
     "output_type": "execute_result"
    },
    {
     "data": {
      "text/plain": [
       "(array([  0., 100., 200., 300., 400., 500., 600.]),\n",
       " <a list of 7 Text xticklabel objects>)"
      ]
     },
     "execution_count": 10,
     "metadata": {},
     "output_type": "execute_result"
    },
    {
     "data": {
      "text/plain": [
       "([<matplotlib.axis.YTick at 0x1cc4badc550>,\n",
       "  <matplotlib.axis.YTick at 0x1cc4bae1e48>,\n",
       "  <matplotlib.axis.YTick at 0x1cc4bac21d0>,\n",
       "  <matplotlib.axis.YTick at 0x1cc4bae75c0>],\n",
       " <a list of 4 Text yticklabel objects>)"
      ]
     },
     "execution_count": 10,
     "metadata": {},
     "output_type": "execute_result"
    },
    {
     "data": {
      "text/plain": [
       "Text(0.5, 0, 'Count')"
      ]
     },
     "execution_count": 10,
     "metadata": {},
     "output_type": "execute_result"
    },
    {
     "data": {
      "text/plain": [
       "Text(0, 0.5, 'Time Period')"
      ]
     },
     "execution_count": 10,
     "metadata": {},
     "output_type": "execute_result"
    },
    {
     "data": {
      "image/png": "[encoded data removed]",
      "text/plain": [
       "<Figure size 648x360 with 1 Axes>"
      ]
     },
     "metadata": {
      "needs_background": "light"
     },
     "output_type": "display_data"
    }
   ],
   "source": [
    "# plot horizontal bar chart for pg_count\n",
    "pp=pn.plot.barh('period_','period',color=['#71dada'],figsize=(9,5),legend=False)\n",
    "y=np.arange(len(pn.index))\n",
    "ylabel=pn.iloc[:,1]\n",
    "plt.title('Population Shopping in Different Time Period',fontsize=16,fontweight='bold')\n",
    "#plt.legend(fontsize=14,loc=(0.75,0.75))\n",
    "plt.xlim([0,600])\n",
    "plt.xticks(fontsize=14)\n",
    "plt.yticks(y,ylabel,fontsize=14)\n",
    "plt.xlabel('Count',fontsize=14,fontweight='bold')\n",
    "plt.ylabel('Time Period',fontsize=14,fontweight='bold')\n",
    "pp.patches[2].set_color('#b30047')\n",
    "pp.patches[1].set_color('#e6e600')\n",
    "autolabel(pp.patches)\n",
    "plt.show()"
   ]
  },
  {
   "cell_type": "markdown",
   "metadata": {},
   "source": [
    "#### Sales Totals by Day of the Week\n",
    "\n",
    "According to the chart showing below, all days of week has quite large volumn of people going shopping. However, relaively speaking, most people goes shopping on Saturday and Monday has the fewest people going shopping."
   ]
  },
  {
   "cell_type": "code",
   "execution_count": 11,
   "metadata": {},
   "outputs": [
    {
     "data": {
      "text/html": [
       "<div>\n",
       "<style scoped>\n",
       "    .dataframe tbody tr th:only-of-type {\n",
       "        vertical-align: middle;\n",
       "    }\n",
       "\n",
       "    .dataframe tbody tr th {\n",
       "        vertical-align: top;\n",
       "    }\n",
       "\n",
       "    .dataframe thead th {\n",
       "        text-align: right;\n",
       "    }\n",
       "</style>\n",
       "<table border=\"1\" class=\"dataframe\">\n",
       "  <thead>\n",
       "    <tr style=\"text-align: right;\">\n",
       "      <th></th>\n",
       "      <th>date_w</th>\n",
       "      <th>total</th>\n",
       "    </tr>\n",
       "  </thead>\n",
       "  <tbody>\n",
       "    <tr>\n",
       "      <th>0</th>\n",
       "      <td>Sun</td>\n",
       "      <td>44457.8925</td>\n",
       "    </tr>\n",
       "    <tr>\n",
       "      <th>1</th>\n",
       "      <td>Mon</td>\n",
       "      <td>37899.0780</td>\n",
       "    </tr>\n",
       "    <tr>\n",
       "      <th>2</th>\n",
       "      <td>Tue</td>\n",
       "      <td>51482.2455</td>\n",
       "    </tr>\n",
       "    <tr>\n",
       "      <th>3</th>\n",
       "      <td>Wed</td>\n",
       "      <td>43731.1350</td>\n",
       "    </tr>\n",
       "    <tr>\n",
       "      <th>4</th>\n",
       "      <td>Thu</td>\n",
       "      <td>45349.2480</td>\n",
       "    </tr>\n",
       "    <tr>\n",
       "      <th>5</th>\n",
       "      <td>Fri</td>\n",
       "      <td>43926.3405</td>\n",
       "    </tr>\n",
       "    <tr>\n",
       "      <th>6</th>\n",
       "      <td>Sat</td>\n",
       "      <td>56120.8095</td>\n",
       "    </tr>\n",
       "  </tbody>\n",
       "</table>\n",
       "</div>"
      ],
      "text/plain": [
       "  date_w       total\n",
       "0    Sun  44457.8925\n",
       "1    Mon  37899.0780\n",
       "2    Tue  51482.2455\n",
       "3    Wed  43731.1350\n",
       "4    Thu  45349.2480\n",
       "5    Fri  43926.3405\n",
       "6    Sat  56120.8095"
      ]
     },
     "execution_count": 11,
     "metadata": {},
     "output_type": "execute_result"
    },
    {
     "data": {
      "text/plain": [
       "(array([0, 1, 2, 3, 4, 5, 6]), <a list of 7 Text xticklabel objects>)"
      ]
     },
     "execution_count": 11,
     "metadata": {},
     "output_type": "execute_result"
    },
    {
     "data": {
      "text/plain": [
       "Text(0.5, 1.0, 'Sales for Days of Week')"
      ]
     },
     "execution_count": 11,
     "metadata": {},
     "output_type": "execute_result"
    },
    {
     "data": {
      "text/plain": [
       "(0, 70000)"
      ]
     },
     "execution_count": 11,
     "metadata": {},
     "output_type": "execute_result"
    },
    {
     "data": {
      "text/plain": [
       "Text(0.5, 0, 'Week Day')"
      ]
     },
     "execution_count": 11,
     "metadata": {},
     "output_type": "execute_result"
    },
    {
     "data": {
      "text/plain": [
       "Text(0, 0.5, 'Sales ($)')"
      ]
     },
     "execution_count": 11,
     "metadata": {},
     "output_type": "execute_result"
    },
    {
     "data": {
      "image/png": "[encoded data removed]",
      "text/plain": [
       "<Figure size 648x360 with 1 Axes>"
      ]
     },
     "metadata": {
      "needs_background": "light"
     },
     "output_type": "display_data"
    }
   ],
   "source": [
    "# bar chart of sales for days of week\n",
    "# data\n",
    "ss['date_w']=ss.date.apply(lambda x:x.date().strftime('%w'))\n",
    "ws=ss.groupby(['date_w'])['total'].sum().to_frame().reset_index()\n",
    "ws.date_w=list(cl.day_abbr)[-1:]+list(cl.day_abbr)[:-1]\n",
    "ws\n",
    "# chart\n",
    "wsp=ws.plot.bar('date_w','total',color=['#71dada'],figsize=(9,5),legend=False)\n",
    "plt.xticks(rotation=0,fontsize=14)\n",
    "plt.title('Sales for Days of Week',fontsize=16,fontweight='bold')\n",
    "wsp.patches[6].set_color('#b30047')\n",
    "wsp.patches[1].set_color('#e6e600')\n",
    "wsp.set_ylim([0,70000])\n",
    "wsp.set_xlabel('Week Day',fontsize=14,fontweight='bold')\n",
    "wsp.set_ylabel('Sales ($)',fontsize=14,fontweight='bold')"
   ]
  },
  {
   "cell_type": "markdown",
   "metadata": {},
   "source": [
    "#### Gross Income by Product Line for Members and Non Members\n",
    "\n",
    "Given the chart below, most of the product lines are uniform when broken down by the customer type. In terms of their inner quartile range, most product lines share a similar median between members and normal customers. The one exception is the Health and Beauty product line that shows a ~$1 gap between medians of the customer types. This occurance will be further investigated in the next section."
   ]
  },
  {
   "cell_type": "code",
   "execution_count": 12,
   "metadata": {},
   "outputs": [
    {
     "data": {
      "text/plain": [
       "Text(0.5, 0.98, 'Gross Income by Products and Customer Type')"
      ]
     },
     "execution_count": 12,
     "metadata": {},
     "output_type": "execute_result"
    },
    {
     "data": {
      "image/png": "[encoded data removed]",
      "text/plain": [
       "<Figure size 796.875x360 with 1 Axes>"
      ]
     },
     "metadata": {
      "needs_background": "light"
     },
     "output_type": "display_data"
    }
   ],
   "source": [
    "bx2=sns.catplot(y='product_line', x='rating', data=ss, hue='cust_type', kind='box', height=5, aspect=2).set(xlabel='Gross Income ($)', ylabel='Product Lines')\n",
    "bx2.fig.suptitle('Gross Income by Products and Customer Type')"
   ]
  },
  {
   "cell_type": "markdown",
   "metadata": {},
   "source": [
    "#### Gross Income by Product Line and City"
   ]
  },
  {
   "cell_type": "markdown",
   "metadata": {},
   "source": [
    "#### Purchase Counts by Product Line and City"
   ]
  },
  {
   "cell_type": "markdown",
   "metadata": {},
   "source": [
    "This chart below shown the relationahip between product types and different city, Naypyitaw has low spending on sports and travel but high spending on food and beverages. Yangon has the most sales in the electronica and home_lifestyle category,and Mandalay has most sales on sports and travel\n"
   ]
  },
  {
   "cell_type": "code",
   "execution_count": 13,
   "metadata": {
    "scrolled": true
   },
   "outputs": [
    {
     "data": {
      "text/html": [
       "<div>\n",
       "<style scoped>\n",
       "    .dataframe tbody tr th:only-of-type {\n",
       "        vertical-align: middle;\n",
       "    }\n",
       "\n",
       "    .dataframe tbody tr th {\n",
       "        vertical-align: top;\n",
       "    }\n",
       "\n",
       "    .dataframe thead th {\n",
       "        text-align: right;\n",
       "    }\n",
       "</style>\n",
       "<table border=\"1\" class=\"dataframe\">\n",
       "  <thead>\n",
       "    <tr style=\"text-align: right;\">\n",
       "      <th>city</th>\n",
       "      <th>Mandalay</th>\n",
       "      <th>Naypyitaw</th>\n",
       "      <th>Yangon</th>\n",
       "    </tr>\n",
       "  </thead>\n",
       "  <tbody>\n",
       "    <tr>\n",
       "      <th>fashion</th>\n",
       "      <td>62</td>\n",
       "      <td>65</td>\n",
       "      <td>51</td>\n",
       "    </tr>\n",
       "    <tr>\n",
       "      <th>food_beverages</th>\n",
       "      <td>50</td>\n",
       "      <td>66</td>\n",
       "      <td>58</td>\n",
       "    </tr>\n",
       "    <tr>\n",
       "      <th>home_lifestyle</th>\n",
       "      <td>50</td>\n",
       "      <td>45</td>\n",
       "      <td>65</td>\n",
       "    </tr>\n",
       "    <tr>\n",
       "      <th>sports_travel</th>\n",
       "      <td>62</td>\n",
       "      <td>45</td>\n",
       "      <td>59</td>\n",
       "    </tr>\n",
       "    <tr>\n",
       "      <th>health_beauty</th>\n",
       "      <td>53</td>\n",
       "      <td>52</td>\n",
       "      <td>47</td>\n",
       "    </tr>\n",
       "    <tr>\n",
       "      <th>electronics</th>\n",
       "      <td>55</td>\n",
       "      <td>55</td>\n",
       "      <td>60</td>\n",
       "    </tr>\n",
       "  </tbody>\n",
       "</table>\n",
       "</div>"
      ],
      "text/plain": [
       "city            Mandalay  Naypyitaw  Yangon\n",
       "fashion               62         65      51\n",
       "food_beverages        50         66      58\n",
       "home_lifestyle        50         45      65\n",
       "sports_travel         62         45      59\n",
       "health_beauty         53         52      47\n",
       "electronics           55         55      60"
      ]
     },
     "execution_count": 13,
     "metadata": {},
     "output_type": "execute_result"
    }
   ],
   "source": [
    "C=dumTime.groupby('city')['fashion','food_beverages','home_lifestyle','sports_travel','health_beauty','electronics'].sum()\n",
    "P=C.T\n",
    "P"
   ]
  },
  {
   "cell_type": "code",
   "execution_count": 14,
   "metadata": {},
   "outputs": [
    {
     "data": {
      "image/png": "[encoded data removed]",
      "text/plain": [
       "<Figure size 720x720 with 1 Axes>"
      ]
     },
     "metadata": {
      "needs_background": "light"
     },
     "output_type": "display_data"
    }
   ],
   "source": [
    "plg=P.plot.barh(color=['#ff6699','#ccccff','#0099cc'],figsize=(10,10))"
   ]
  },
  {
   "cell_type": "markdown",
   "metadata": {},
   "source": [
    "#### Member and non-Member Trends\n",
    "Given the singular variance in product line trends, we decided to furter split the data by adding gender into the chart in an attempt to better understand the spending behavior of the customers. As seen below, female purchasing behavior is relatively uniform. But something interesting is happening on the male chart. Male members spend significantly more (around $5) on Health and Beauty products compared to normal customers."
   ]
  },
  {
   "cell_type": "code",
   "execution_count": 15,
   "metadata": {
    "scrolled": false
   },
   "outputs": [
    {
     "data": {
      "text/plain": [
       "<seaborn.axisgrid.FacetGrid at 0x1cc4cda7dd8>"
      ]
     },
     "execution_count": 15,
     "metadata": {},
     "output_type": "execute_result"
    },
    {
     "data": {
      "image/png": "[encoded data removed]",
      "text/plain": [
       "<Figure size 1516.88x360 with 2 Axes>"
      ]
     },
     "metadata": {
      "needs_background": "light"
     },
     "output_type": "display_data"
    }
   ],
   "source": [
    "sns.catplot(y='product_line', x='g_income', data=ss, hue='cust_type', col='gender',kind='point', height=5, aspect=2).set(xlabel='Product Lines', ylabel='Gross Income ($)')"
   ]
  },
  {
   "cell_type": "markdown",
   "metadata": {},
   "source": [
    "#### Gross Income by Branch\n",
    "One other area that we were interested in was the use of various payments in an emerging market like Myanmar. However, as the chart below shows, there isn't a significant amount of variance in payment types across product lines. Branch B may have a credit card reward system that would explain why it is used the most, but without more meaningful data, it's hard to make any solid conclusions. "
   ]
  },
  {
   "cell_type": "code",
   "execution_count": 16,
   "metadata": {},
   "outputs": [
    {
     "data": {
      "text/plain": [
       "<seaborn.axisgrid.FacetGrid at 0x1cc4ce7ebe0>"
      ]
     },
     "execution_count": 16,
     "metadata": {},
     "output_type": "execute_result"
    },
    {
     "data": {
      "image/png": "[encoded data removed]",
      "text/plain": [
       "<Figure size 811.5x360 with 1 Axes>"
      ]
     },
     "metadata": {
      "needs_background": "light"
     },
     "output_type": "display_data"
    }
   ],
   "source": [
    "sns.catplot(y='branch', x='g_income', data=ss, hue='payment', kind='bar', height=5, aspect=2).set(xlabel='Gross Income per Unit ($)', ylabel='Product Lines)')"
   ]
  },
  {
   "cell_type": "markdown",
   "metadata": {},
   "source": [
    "#### Gross Income by Product Line"
   ]
  },
  {
   "cell_type": "markdown",
   "metadata": {},
   "source": [
    "To analyze profit on different product types, we analysed the relationship between gross income and  products line. As shown below, profit on different product line is from USD2342 to USD2673. The max gross income is on Food and beverages, and min gross income is on Health and beauty \t.\t"
   ]
  },
  {
   "cell_type": "code",
   "execution_count": 17,
   "metadata": {
    "scrolled": true
   },
   "outputs": [
    {
     "data": {
      "text/html": [
       "<div>\n",
       "<style scoped>\n",
       "    .dataframe tbody tr th:only-of-type {\n",
       "        vertical-align: middle;\n",
       "    }\n",
       "\n",
       "    .dataframe tbody tr th {\n",
       "        vertical-align: top;\n",
       "    }\n",
       "\n",
       "    .dataframe thead th {\n",
       "        text-align: right;\n",
       "    }\n",
       "</style>\n",
       "<table border=\"1\" class=\"dataframe\">\n",
       "  <thead>\n",
       "    <tr style=\"text-align: right;\">\n",
       "      <th></th>\n",
       "      <th>g_income</th>\n",
       "    </tr>\n",
       "    <tr>\n",
       "      <th>product_line</th>\n",
       "      <th></th>\n",
       "    </tr>\n",
       "  </thead>\n",
       "  <tbody>\n",
       "    <tr>\n",
       "      <th>Health and beauty</th>\n",
       "      <td>2342.5590</td>\n",
       "    </tr>\n",
       "    <tr>\n",
       "      <th>Home and lifestyle</th>\n",
       "      <td>2564.8530</td>\n",
       "    </tr>\n",
       "    <tr>\n",
       "      <th>Fashion accessories</th>\n",
       "      <td>2585.9950</td>\n",
       "    </tr>\n",
       "    <tr>\n",
       "      <th>Electronic accessories</th>\n",
       "      <td>2587.5015</td>\n",
       "    </tr>\n",
       "    <tr>\n",
       "      <th>Sports and travel</th>\n",
       "      <td>2624.8965</td>\n",
       "    </tr>\n",
       "    <tr>\n",
       "      <th>Food and beverages</th>\n",
       "      <td>2673.5640</td>\n",
       "    </tr>\n",
       "  </tbody>\n",
       "</table>\n",
       "</div>"
      ],
      "text/plain": [
       "                         g_income\n",
       "product_line                     \n",
       "Health and beauty       2342.5590\n",
       "Home and lifestyle      2564.8530\n",
       "Fashion accessories     2585.9950\n",
       "Electronic accessories  2587.5015\n",
       "Sports and travel       2624.8965\n",
       "Food and beverages      2673.5640"
      ]
     },
     "execution_count": 17,
     "metadata": {},
     "output_type": "execute_result"
    }
   ],
   "source": [
    "B=ss.groupby('product_line')[['g_income']].sum().sort_values(by='g_income')\n",
    "B"
   ]
  },
  {
   "cell_type": "code",
   "execution_count": 18,
   "metadata": {},
   "outputs": [
    {
     "data": {
      "text/plain": [
       "<BarContainer object of 6 artists>"
      ]
     },
     "execution_count": 18,
     "metadata": {},
     "output_type": "execute_result"
    },
    {
     "data": {
      "text/plain": [
       "Text(0, 0.5, 'Product line')"
      ]
     },
     "execution_count": 18,
     "metadata": {},
     "output_type": "execute_result"
    },
    {
     "data": {
      "text/plain": [
       "Text(0.5, 0, 'gross income')"
      ]
     },
     "execution_count": 18,
     "metadata": {},
     "output_type": "execute_result"
    },
    {
     "data": {
      "text/plain": [
       "Text(0.5, 1.0, 'Relationship between Product line and Gross income')"
      ]
     },
     "execution_count": 18,
     "metadata": {},
     "output_type": "execute_result"
    },
    {
     "data": {
      "image/png": "[encoded data removed]",
      "text/plain": [
       "<Figure size 432x288 with 1 Axes>"
      ]
     },
     "metadata": {
      "needs_background": "light"
     },
     "output_type": "display_data"
    }
   ],
   "source": [
    "fig,ax=plt.subplots()\n",
    "def less_color():    \n",
    "    list=[]\n",
    "    for i in B['g_income'].values:\n",
    "        if i==B['g_income'].values.max():\n",
    "            list.append(\"#ff6666\")\n",
    "        elif i==B['g_income'].values.min():\n",
    "            list.append('#ffff66')\n",
    "        else:\n",
    "            list.append(\"#99ccff\")\n",
    "    return list\n",
    "ax.barh(B.index,B['g_income'].values,color=less_color())\n",
    "ax.set_ylabel(\"Product line\")  \n",
    "ax.set_xlabel(\"gross income\")  \n",
    "ax.set_title(\"Relationship between Product line and Gross income\")  \n",
    "#plt.xlim([2000,3000])\n",
    "plt.show()  "
   ]
  },
  {
   "cell_type": "markdown",
   "metadata": {},
   "source": [
    "#### Spending by Product Line"
   ]
  },
  {
   "cell_type": "markdown",
   "metadata": {},
   "source": [
    "To analyze customer preferences for product types, we counted the average spend on different products line. As shown below, customer average spend on different product line is from USD305 to USD337. The max average spending is on home and lifestyle, and min average spending is on Fashion accessories.\t"
   ]
  },
  {
   "cell_type": "code",
   "execution_count": 19,
   "metadata": {},
   "outputs": [
    {
     "data": {
      "text/html": [
       "<div>\n",
       "<style scoped>\n",
       "    .dataframe tbody tr th:only-of-type {\n",
       "        vertical-align: middle;\n",
       "    }\n",
       "\n",
       "    .dataframe tbody tr th {\n",
       "        vertical-align: top;\n",
       "    }\n",
       "\n",
       "    .dataframe thead th {\n",
       "        text-align: right;\n",
       "    }\n",
       "</style>\n",
       "<table border=\"1\" class=\"dataframe\">\n",
       "  <thead>\n",
       "    <tr style=\"text-align: right;\">\n",
       "      <th></th>\n",
       "      <th>total</th>\n",
       "    </tr>\n",
       "    <tr>\n",
       "      <th>product_line</th>\n",
       "      <th></th>\n",
       "    </tr>\n",
       "  </thead>\n",
       "  <tbody>\n",
       "    <tr>\n",
       "      <th>Fashion accessories</th>\n",
       "      <td>305.089298</td>\n",
       "    </tr>\n",
       "    <tr>\n",
       "      <th>Electronic accessories</th>\n",
       "      <td>319.632538</td>\n",
       "    </tr>\n",
       "    <tr>\n",
       "      <th>Food and beverages</th>\n",
       "      <td>322.671517</td>\n",
       "    </tr>\n",
       "    <tr>\n",
       "      <th>Health and beauty</th>\n",
       "      <td>323.643020</td>\n",
       "    </tr>\n",
       "    <tr>\n",
       "      <th>Sports and travel</th>\n",
       "      <td>332.065220</td>\n",
       "    </tr>\n",
       "    <tr>\n",
       "      <th>Home and lifestyle</th>\n",
       "      <td>336.636956</td>\n",
       "    </tr>\n",
       "  </tbody>\n",
       "</table>\n",
       "</div>"
      ],
      "text/plain": [
       "                             total\n",
       "product_line                      \n",
       "Fashion accessories     305.089298\n",
       "Electronic accessories  319.632538\n",
       "Food and beverages      322.671517\n",
       "Health and beauty       323.643020\n",
       "Sports and travel       332.065220\n",
       "Home and lifestyle      336.636956"
      ]
     },
     "execution_count": 19,
     "metadata": {},
     "output_type": "execute_result"
    }
   ],
   "source": [
    "prr=ss.groupby('product_line')[['total']].mean()\n",
    "prr.sort_values(by='total')"
   ]
  },
  {
   "cell_type": "code",
   "execution_count": 20,
   "metadata": {},
   "outputs": [
    {
     "data": {
      "text/plain": [
       "<BarContainer object of 6 artists>"
      ]
     },
     "execution_count": 20,
     "metadata": {},
     "output_type": "execute_result"
    },
    {
     "data": {
      "text/plain": [
       "Text(0, 0.5, 'Product line')"
      ]
     },
     "execution_count": 20,
     "metadata": {},
     "output_type": "execute_result"
    },
    {
     "data": {
      "text/plain": [
       "Text(0.5, 0, 'Average Spend')"
      ]
     },
     "execution_count": 20,
     "metadata": {},
     "output_type": "execute_result"
    },
    {
     "data": {
      "text/plain": [
       "Text(0.5, 1.0, 'Relationship between Product line and Average Spend')"
      ]
     },
     "execution_count": 20,
     "metadata": {},
     "output_type": "execute_result"
    },
    {
     "data": {
      "text/plain": [
       "(0, 350)"
      ]
     },
     "execution_count": 20,
     "metadata": {},
     "output_type": "execute_result"
    },
    {
     "data": {
      "image/png": "[encoded data removed]",
      "text/plain": [
       "<Figure size 432x288 with 1 Axes>"
      ]
     },
     "metadata": {
      "needs_background": "light"
     },
     "output_type": "display_data"
    }
   ],
   "source": [
    "fig,ax=plt.subplots()\n",
    "\n",
    "def color():\n",
    "    \n",
    "    list=[]\n",
    "    for i in prr['total'].values:\n",
    "        if i==prr['total'].values.max():\n",
    "            list.append(\"#ff6666\")\n",
    "        elif i==prr['total'].values.min():\n",
    "            list.append('#ffff66')\n",
    "        else:\n",
    "            list.append(\"#99ccff\")\n",
    "    return list\n",
    "\n",
    "\n",
    "\n",
    "ax.barh(prr.index,prr.total.values,color=color())\n",
    "ax.set_ylabel(\"Product line\")  \n",
    "ax.set_xlabel(\"Average Spend\")  \n",
    "ax.set_title(\"Relationship between Product line and Average Spend\")\n",
    "plt.xlim([0,350])\n",
    "plt.show()  \n"
   ]
  },
  {
   "cell_type": "markdown",
   "metadata": {},
   "source": [
    "### Machine Learning"
   ]
  },
  {
   "cell_type": "markdown",
   "metadata": {},
   "source": [
    "We built a machine learning model using decison tree analysis to investigate the data attributes most cuppled with the gender of the consumer and membership status. Comments on the results of each machine learning analysis appear below each decison tree."
   ]
  },
  {
   "cell_type": "code",
   "execution_count": 22,
   "metadata": {},
   "outputs": [],
   "source": [
    "import pandas as pd\n",
    "import numpy as np\n",
    "import seaborn as sns\n",
    "import sklearn as sk\n",
    "import sklearn.tree as tree\n",
    "from IPython.display import Image  \n",
    "import pydotplus\n",
    "\n",
    "from IPython.core.interactiveshell import InteractiveShell\n",
    "InteractiveShell.ast_node_interactivity = \"all\""
   ]
  },
  {
   "cell_type": "code",
   "execution_count": 23,
   "metadata": {},
   "outputs": [
    {
     "data": {
      "text/html": [
       "<div>\n",
       "<style scoped>\n",
       "    .dataframe tbody tr th:only-of-type {\n",
       "        vertical-align: middle;\n",
       "    }\n",
       "\n",
       "    .dataframe tbody tr th {\n",
       "        vertical-align: top;\n",
       "    }\n",
       "\n",
       "    .dataframe thead th {\n",
       "        text-align: right;\n",
       "    }\n",
       "</style>\n",
       "<table border=\"1\" class=\"dataframe\">\n",
       "  <thead>\n",
       "    <tr style=\"text-align: right;\">\n",
       "      <th></th>\n",
       "      <th>total</th>\n",
       "      <th>rating</th>\n",
       "      <th>cust_type_Member</th>\n",
       "      <th>cust_type_Normal</th>\n",
       "      <th>electronics</th>\n",
       "      <th>fashion</th>\n",
       "      <th>food_beverages</th>\n",
       "      <th>health_beauty</th>\n",
       "      <th>home_lifestyle</th>\n",
       "      <th>sports_travel</th>\n",
       "      <th>female</th>\n",
       "      <th>cash</th>\n",
       "      <th>credit_card</th>\n",
       "      <th>ewallet</th>\n",
       "      <th>city_Mandalay</th>\n",
       "      <th>city_Naypyitaw</th>\n",
       "      <th>city_Yangon</th>\n",
       "    </tr>\n",
       "  </thead>\n",
       "  <tbody>\n",
       "    <tr>\n",
       "      <th>0</th>\n",
       "      <td>548</td>\n",
       "      <td>9</td>\n",
       "      <td>1</td>\n",
       "      <td>0</td>\n",
       "      <td>0</td>\n",
       "      <td>0</td>\n",
       "      <td>0</td>\n",
       "      <td>1</td>\n",
       "      <td>0</td>\n",
       "      <td>0</td>\n",
       "      <td>1</td>\n",
       "      <td>0</td>\n",
       "      <td>0</td>\n",
       "      <td>1</td>\n",
       "      <td>0</td>\n",
       "      <td>0</td>\n",
       "      <td>1</td>\n",
       "    </tr>\n",
       "    <tr>\n",
       "      <th>1</th>\n",
       "      <td>80</td>\n",
       "      <td>9</td>\n",
       "      <td>0</td>\n",
       "      <td>1</td>\n",
       "      <td>1</td>\n",
       "      <td>0</td>\n",
       "      <td>0</td>\n",
       "      <td>0</td>\n",
       "      <td>0</td>\n",
       "      <td>0</td>\n",
       "      <td>1</td>\n",
       "      <td>1</td>\n",
       "      <td>0</td>\n",
       "      <td>0</td>\n",
       "      <td>0</td>\n",
       "      <td>1</td>\n",
       "      <td>0</td>\n",
       "    </tr>\n",
       "    <tr>\n",
       "      <th>2</th>\n",
       "      <td>340</td>\n",
       "      <td>7</td>\n",
       "      <td>0</td>\n",
       "      <td>1</td>\n",
       "      <td>0</td>\n",
       "      <td>0</td>\n",
       "      <td>0</td>\n",
       "      <td>0</td>\n",
       "      <td>1</td>\n",
       "      <td>0</td>\n",
       "      <td>0</td>\n",
       "      <td>0</td>\n",
       "      <td>1</td>\n",
       "      <td>0</td>\n",
       "      <td>0</td>\n",
       "      <td>0</td>\n",
       "      <td>1</td>\n",
       "    </tr>\n",
       "    <tr>\n",
       "      <th>3</th>\n",
       "      <td>489</td>\n",
       "      <td>8</td>\n",
       "      <td>1</td>\n",
       "      <td>0</td>\n",
       "      <td>0</td>\n",
       "      <td>0</td>\n",
       "      <td>0</td>\n",
       "      <td>1</td>\n",
       "      <td>0</td>\n",
       "      <td>0</td>\n",
       "      <td>0</td>\n",
       "      <td>0</td>\n",
       "      <td>0</td>\n",
       "      <td>1</td>\n",
       "      <td>0</td>\n",
       "      <td>0</td>\n",
       "      <td>1</td>\n",
       "    </tr>\n",
       "    <tr>\n",
       "      <th>4</th>\n",
       "      <td>634</td>\n",
       "      <td>5</td>\n",
       "      <td>0</td>\n",
       "      <td>1</td>\n",
       "      <td>0</td>\n",
       "      <td>0</td>\n",
       "      <td>0</td>\n",
       "      <td>0</td>\n",
       "      <td>0</td>\n",
       "      <td>1</td>\n",
       "      <td>0</td>\n",
       "      <td>0</td>\n",
       "      <td>0</td>\n",
       "      <td>1</td>\n",
       "      <td>0</td>\n",
       "      <td>0</td>\n",
       "      <td>1</td>\n",
       "    </tr>\n",
       "  </tbody>\n",
       "</table>\n",
       "</div>"
      ],
      "text/plain": [
       "   total  rating  cust_type_Member  cust_type_Normal  electronics  fashion  \\\n",
       "0    548       9                 1                 0            0        0   \n",
       "1     80       9                 0                 1            1        0   \n",
       "2    340       7                 0                 1            0        0   \n",
       "3    489       8                 1                 0            0        0   \n",
       "4    634       5                 0                 1            0        0   \n",
       "\n",
       "   food_beverages  health_beauty  home_lifestyle  sports_travel  female  cash  \\\n",
       "0               0              1               0              0       1     0   \n",
       "1               0              0               0              0       1     1   \n",
       "2               0              0               1              0       0     0   \n",
       "3               0              1               0              0       0     0   \n",
       "4               0              0               0              1       0     0   \n",
       "\n",
       "   credit_card  ewallet  city_Mandalay  city_Naypyitaw  city_Yangon  \n",
       "0            0        1              0               0            1  \n",
       "1            0        0              0               1            0  \n",
       "2            1        0              0               0            1  \n",
       "3            0        1              0               0            1  \n",
       "4            0        1              0               0            1  "
      ]
     },
     "execution_count": 23,
     "metadata": {},
     "output_type": "execute_result"
    }
   ],
   "source": [
    "# create a data frame where all mathmatically related vaiables have been removed.\n",
    "#tax, cost of goods sold, etc.\n",
    "ss2=dumTime.drop('unit_price',axis=1)\n",
    "ss2=ss2.drop('qty', axis=1)\n",
    "ss2=ss2.drop('tax_5', axis=1)\n",
    "ss2=ss2.drop('cogs', axis=1)\n",
    "ss2=ss2.drop('g_income', axis=1)\n",
    "ss2=ss2.drop('invoice_id', axis=1)\n",
    "ss2=ss2.drop('branch', axis=1)\n",
    "ss2=ss2.drop('date', axis=1)\n",
    "ss2=ss2.drop('time', axis=1)\n",
    "ss2=ss2.drop('gmp', axis=1)\n",
    "#drop dummy collumn coresponding to target variable\n",
    "ss2=ss2.drop('male',axis=1)\n",
    "#create remaining dummy columns\n",
    "ss2=pd.get_dummies(ss2,columns=['city'])\n",
    "#convert total to integers\n",
    "ss2 = pd.DataFrame(ss2, dtype='int')\n",
    "ss2.head()\n",
    "#Assign X the dataframe without the 'total spent' attribute\n",
    "X=ss2.drop('female',axis=1)\n",
    "# Assign Y the total spent attribute\n",
    "Y=ss2.female"
   ]
  },
  {
   "cell_type": "code",
   "execution_count": 24,
   "metadata": {},
   "outputs": [
    {
     "data": {
      "text/plain": [
       "DecisionTreeClassifier(class_weight=None, criterion='gini', max_depth=2,\n",
       "            max_features=None, max_leaf_nodes=None,\n",
       "            min_impurity_decrease=0.0, min_impurity_split=None,\n",
       "            min_samples_leaf=1, min_samples_split=2,\n",
       "            min_weight_fraction_leaf=0.0, presort=False, random_state=None,\n",
       "            splitter='best')"
      ]
     },
     "execution_count": 24,
     "metadata": {},
     "output_type": "execute_result"
    }
   ],
   "source": [
    "dt=tree.DecisionTreeClassifier(max_depth=2)\n",
    "dt.fit(X=X,y=Y)"
   ]
  },
  {
   "cell_type": "code",
   "execution_count": 25,
   "metadata": {},
   "outputs": [
    {
     "data": {
      "image/png": "[encoded data removed]",
      "text/plain": [
       "<IPython.core.display.Image object>"
      ]
     },
     "execution_count": 25,
     "metadata": {},
     "output_type": "execute_result"
    },
    {
     "data": {
      "text/plain": [
       "True"
      ]
     },
     "execution_count": 25,
     "metadata": {},
     "output_type": "execute_result"
    }
   ],
   "source": [
    "import os\n",
    "\n",
    "os.environ['PATH'] = os.environ['PATH']+';'+os.environ['CONDA_PREFIX']+r\"\\Library\\bin\\graphviz\"\n",
    "\n",
    "dt_feature_names = list(X.columns)\n",
    "dt_target_names = np.array(Y.unique(),dtype=np.str) \n",
    "tree.export_graphviz(dt, out_file='Gendertree.dot', \n",
    "    feature_names=dt_feature_names, class_names=dt_target_names,\n",
    "    filled=True)  \n",
    "graph = pydotplus.graph_from_dot_file('Gendertree.dot')\n",
    "Image(graph.create_png())\n",
    "graph.write_pdf(\"Gendertree.pdf\")"
   ]
  },
  {
   "cell_type": "markdown",
   "metadata": {},
   "source": [
    "In the decision tree adove, we see that the machine learning model selected total spend as the predictor most indicative of purchaser gender. This decision tree indicates that females in this data set tended to spend less than their male counterparts. In this machine learning model, the shopers most likely to be male spent over $316. Interestingly, females are most likely to spend between $243 and $295, whereas shoppers spending less than this range are harder to predict.  The high gini values in this model show that the confidence in this model is low and that total and gender are not tightly coupled. "
   ]
  },
  {
   "cell_type": "code",
   "execution_count": 26,
   "metadata": {},
   "outputs": [
    {
     "data": {
      "text/html": [
       "<div>\n",
       "<style scoped>\n",
       "    .dataframe tbody tr th:only-of-type {\n",
       "        vertical-align: middle;\n",
       "    }\n",
       "\n",
       "    .dataframe tbody tr th {\n",
       "        vertical-align: top;\n",
       "    }\n",
       "\n",
       "    .dataframe thead th {\n",
       "        text-align: right;\n",
       "    }\n",
       "</style>\n",
       "<table border=\"1\" class=\"dataframe\">\n",
       "  <thead>\n",
       "    <tr style=\"text-align: right;\">\n",
       "      <th></th>\n",
       "      <th>total</th>\n",
       "      <th>rating</th>\n",
       "      <th>cust_type_Member</th>\n",
       "      <th>electronics</th>\n",
       "      <th>fashion</th>\n",
       "      <th>food_beverages</th>\n",
       "      <th>health_beauty</th>\n",
       "      <th>home_lifestyle</th>\n",
       "      <th>sports_travel</th>\n",
       "      <th>female</th>\n",
       "      <th>cash</th>\n",
       "      <th>credit_card</th>\n",
       "      <th>ewallet</th>\n",
       "      <th>city_Mandalay</th>\n",
       "      <th>city_Naypyitaw</th>\n",
       "      <th>city_Yangon</th>\n",
       "    </tr>\n",
       "  </thead>\n",
       "  <tbody>\n",
       "    <tr>\n",
       "      <th>0</th>\n",
       "      <td>548</td>\n",
       "      <td>9</td>\n",
       "      <td>1</td>\n",
       "      <td>0</td>\n",
       "      <td>0</td>\n",
       "      <td>0</td>\n",
       "      <td>1</td>\n",
       "      <td>0</td>\n",
       "      <td>0</td>\n",
       "      <td>1</td>\n",
       "      <td>0</td>\n",
       "      <td>0</td>\n",
       "      <td>1</td>\n",
       "      <td>0</td>\n",
       "      <td>0</td>\n",
       "      <td>1</td>\n",
       "    </tr>\n",
       "    <tr>\n",
       "      <th>1</th>\n",
       "      <td>80</td>\n",
       "      <td>9</td>\n",
       "      <td>0</td>\n",
       "      <td>1</td>\n",
       "      <td>0</td>\n",
       "      <td>0</td>\n",
       "      <td>0</td>\n",
       "      <td>0</td>\n",
       "      <td>0</td>\n",
       "      <td>1</td>\n",
       "      <td>1</td>\n",
       "      <td>0</td>\n",
       "      <td>0</td>\n",
       "      <td>0</td>\n",
       "      <td>1</td>\n",
       "      <td>0</td>\n",
       "    </tr>\n",
       "    <tr>\n",
       "      <th>2</th>\n",
       "      <td>340</td>\n",
       "      <td>7</td>\n",
       "      <td>0</td>\n",
       "      <td>0</td>\n",
       "      <td>0</td>\n",
       "      <td>0</td>\n",
       "      <td>0</td>\n",
       "      <td>1</td>\n",
       "      <td>0</td>\n",
       "      <td>0</td>\n",
       "      <td>0</td>\n",
       "      <td>1</td>\n",
       "      <td>0</td>\n",
       "      <td>0</td>\n",
       "      <td>0</td>\n",
       "      <td>1</td>\n",
       "    </tr>\n",
       "    <tr>\n",
       "      <th>3</th>\n",
       "      <td>489</td>\n",
       "      <td>8</td>\n",
       "      <td>1</td>\n",
       "      <td>0</td>\n",
       "      <td>0</td>\n",
       "      <td>0</td>\n",
       "      <td>1</td>\n",
       "      <td>0</td>\n",
       "      <td>0</td>\n",
       "      <td>0</td>\n",
       "      <td>0</td>\n",
       "      <td>0</td>\n",
       "      <td>1</td>\n",
       "      <td>0</td>\n",
       "      <td>0</td>\n",
       "      <td>1</td>\n",
       "    </tr>\n",
       "    <tr>\n",
       "      <th>4</th>\n",
       "      <td>634</td>\n",
       "      <td>5</td>\n",
       "      <td>0</td>\n",
       "      <td>0</td>\n",
       "      <td>0</td>\n",
       "      <td>0</td>\n",
       "      <td>0</td>\n",
       "      <td>0</td>\n",
       "      <td>1</td>\n",
       "      <td>0</td>\n",
       "      <td>0</td>\n",
       "      <td>0</td>\n",
       "      <td>1</td>\n",
       "      <td>0</td>\n",
       "      <td>0</td>\n",
       "      <td>1</td>\n",
       "    </tr>\n",
       "  </tbody>\n",
       "</table>\n",
       "</div>"
      ],
      "text/plain": [
       "   total  rating  cust_type_Member  electronics  fashion  food_beverages  \\\n",
       "0    548       9                 1            0        0               0   \n",
       "1     80       9                 0            1        0               0   \n",
       "2    340       7                 0            0        0               0   \n",
       "3    489       8                 1            0        0               0   \n",
       "4    634       5                 0            0        0               0   \n",
       "\n",
       "   health_beauty  home_lifestyle  sports_travel  female  cash  credit_card  \\\n",
       "0              1               0              0       1     0            0   \n",
       "1              0               0              0       1     1            0   \n",
       "2              0               1              0       0     0            1   \n",
       "3              1               0              0       0     0            0   \n",
       "4              0               0              1       0     0            0   \n",
       "\n",
       "   ewallet  city_Mandalay  city_Naypyitaw  city_Yangon  \n",
       "0        1              0               0            1  \n",
       "1        0              0               1            0  \n",
       "2        0              0               0            1  \n",
       "3        1              0               0            1  \n",
       "4        1              0               0            1  "
      ]
     },
     "execution_count": 26,
     "metadata": {},
     "output_type": "execute_result"
    },
    {
     "data": {
      "text/plain": [
       "DecisionTreeClassifier(class_weight=None, criterion='gini', max_depth=2,\n",
       "            max_features=None, max_leaf_nodes=None,\n",
       "            min_impurity_decrease=0.0, min_impurity_split=None,\n",
       "            min_samples_leaf=1, min_samples_split=2,\n",
       "            min_weight_fraction_leaf=0.0, presort=False, random_state=None,\n",
       "            splitter='best')"
      ]
     },
     "execution_count": 26,
     "metadata": {},
     "output_type": "execute_result"
    }
   ],
   "source": [
    "#Run a second machine learning investigation for members and non-members\n",
    "#drop dummy collumn coresponding to target variable\n",
    "\n",
    "\n",
    "ss_mem=ss2.drop('cust_type_Normal',axis=1)\n",
    "#convert total to integers\n",
    "ss_mem = pd.DataFrame(ss_mem, dtype='int')\n",
    "ss_mem.head()\n",
    "#Assign X the dataframe without the Membership attribute\n",
    "X2=ss_mem.drop('cust_type_Member',axis=1)\n",
    "# Assign Y2 the Memebership attribute\n",
    "Y2=ss_mem['cust_type_Member']\n",
    "\n",
    "##### Create tree\n",
    "dt2=tree.DecisionTreeClassifier(max_depth=2)\n",
    "dt2.fit(X=X2,y=Y2)"
   ]
  },
  {
   "cell_type": "code",
   "execution_count": 27,
   "metadata": {},
   "outputs": [
    {
     "data": {
      "image/png": "[encoded data removed]",
      "text/plain": [
       "<IPython.core.display.Image object>"
      ]
     },
     "execution_count": 27,
     "metadata": {},
     "output_type": "execute_result"
    },
    {
     "ename": "PermissionError",
     "evalue": "[Errno 13] Permission denied: 'Membertree.pdf'",
     "output_type": "error",
     "traceback": [
      "\u001b[1;31m---------------------------------------------------------------------------\u001b[0m",
      "\u001b[1;31mPermissionError\u001b[0m                           Traceback (most recent call last)",
      "\u001b[1;32m<ipython-input-27-623d6429e9bd>\u001b[0m in \u001b[0;36m<module>\u001b[1;34m\u001b[0m\n\u001b[0;32m     11\u001b[0m \u001b[0mgraph\u001b[0m \u001b[1;33m=\u001b[0m \u001b[0mpydotplus\u001b[0m\u001b[1;33m.\u001b[0m\u001b[0mgraph_from_dot_file\u001b[0m\u001b[1;33m(\u001b[0m\u001b[1;34m'Membertree.dot'\u001b[0m\u001b[1;33m)\u001b[0m\u001b[1;33m\u001b[0m\u001b[1;33m\u001b[0m\u001b[0m\n\u001b[0;32m     12\u001b[0m \u001b[0mImage\u001b[0m\u001b[1;33m(\u001b[0m\u001b[0mgraph\u001b[0m\u001b[1;33m.\u001b[0m\u001b[0mcreate_png\u001b[0m\u001b[1;33m(\u001b[0m\u001b[1;33m)\u001b[0m\u001b[1;33m)\u001b[0m\u001b[1;33m\u001b[0m\u001b[1;33m\u001b[0m\u001b[0m\n\u001b[1;32m---> 13\u001b[1;33m \u001b[0mgraph\u001b[0m\u001b[1;33m.\u001b[0m\u001b[0mwrite_pdf\u001b[0m\u001b[1;33m(\u001b[0m\u001b[1;34m\"Membertree.pdf\"\u001b[0m\u001b[1;33m)\u001b[0m\u001b[1;33m\u001b[0m\u001b[1;33m\u001b[0m\u001b[0m\n\u001b[0m",
      "\u001b[1;32m~\\Anaconda3\\lib\\site-packages\\pydotplus\\graphviz.py\u001b[0m in \u001b[0;36m<lambda>\u001b[1;34m(path, f, prog)\u001b[0m\n\u001b[0;32m   1808\u001b[0m                 \u001b[1;32mlambda\u001b[0m \u001b[0mpath\u001b[0m\u001b[1;33m,\u001b[0m\u001b[1;33m\u001b[0m\u001b[1;33m\u001b[0m\u001b[0m\n\u001b[0;32m   1809\u001b[0m                 \u001b[0mf\u001b[0m\u001b[1;33m=\u001b[0m\u001b[0mfrmt\u001b[0m\u001b[1;33m,\u001b[0m\u001b[1;33m\u001b[0m\u001b[1;33m\u001b[0m\u001b[0m\n\u001b[1;32m-> 1810\u001b[1;33m                 \u001b[0mprog\u001b[0m\u001b[1;33m=\u001b[0m\u001b[0mself\u001b[0m\u001b[1;33m.\u001b[0m\u001b[0mprog\u001b[0m\u001b[1;33m:\u001b[0m \u001b[0mself\u001b[0m\u001b[1;33m.\u001b[0m\u001b[0mwrite\u001b[0m\u001b[1;33m(\u001b[0m\u001b[0mpath\u001b[0m\u001b[1;33m,\u001b[0m \u001b[0mformat\u001b[0m\u001b[1;33m=\u001b[0m\u001b[0mf\u001b[0m\u001b[1;33m,\u001b[0m \u001b[0mprog\u001b[0m\u001b[1;33m=\u001b[0m\u001b[0mprog\u001b[0m\u001b[1;33m)\u001b[0m\u001b[1;33m\u001b[0m\u001b[1;33m\u001b[0m\u001b[0m\n\u001b[0m\u001b[0;32m   1811\u001b[0m             )\n\u001b[0;32m   1812\u001b[0m \u001b[1;33m\u001b[0m\u001b[0m\n",
      "\u001b[1;32m~\\Anaconda3\\lib\\site-packages\\pydotplus\\graphviz.py\u001b[0m in \u001b[0;36mwrite\u001b[1;34m(self, path, prog, format)\u001b[0m\n\u001b[0;32m   1892\u001b[0m             \u001b[0mprog\u001b[0m \u001b[1;33m=\u001b[0m \u001b[0mself\u001b[0m\u001b[1;33m.\u001b[0m\u001b[0mprog\u001b[0m\u001b[1;33m\u001b[0m\u001b[1;33m\u001b[0m\u001b[0m\n\u001b[0;32m   1893\u001b[0m \u001b[1;33m\u001b[0m\u001b[0m\n\u001b[1;32m-> 1894\u001b[1;33m         \u001b[0mfobj\u001b[0m\u001b[1;33m,\u001b[0m \u001b[0mclose\u001b[0m \u001b[1;33m=\u001b[0m \u001b[0mget_fobj\u001b[0m\u001b[1;33m(\u001b[0m\u001b[0mpath\u001b[0m\u001b[1;33m,\u001b[0m \u001b[1;34m'w+b'\u001b[0m\u001b[1;33m)\u001b[0m\u001b[1;33m\u001b[0m\u001b[1;33m\u001b[0m\u001b[0m\n\u001b[0m\u001b[0;32m   1895\u001b[0m         \u001b[1;32mtry\u001b[0m\u001b[1;33m:\u001b[0m\u001b[1;33m\u001b[0m\u001b[1;33m\u001b[0m\u001b[0m\n\u001b[0;32m   1896\u001b[0m             \u001b[1;32mif\u001b[0m \u001b[0mformat\u001b[0m \u001b[1;33m==\u001b[0m \u001b[1;34m'raw'\u001b[0m\u001b[1;33m:\u001b[0m\u001b[1;33m\u001b[0m\u001b[1;33m\u001b[0m\u001b[0m\n",
      "\u001b[1;32m~\\Anaconda3\\lib\\site-packages\\pydotplus\\graphviz.py\u001b[0m in \u001b[0;36mget_fobj\u001b[1;34m(fname, mode)\u001b[0m\n\u001b[0;32m    148\u001b[0m     \"\"\"\n\u001b[0;32m    149\u001b[0m     \u001b[1;32mif\u001b[0m \u001b[0mis_string_like\u001b[0m\u001b[1;33m(\u001b[0m\u001b[0mfname\u001b[0m\u001b[1;33m)\u001b[0m\u001b[1;33m:\u001b[0m\u001b[1;33m\u001b[0m\u001b[1;33m\u001b[0m\u001b[0m\n\u001b[1;32m--> 150\u001b[1;33m         \u001b[0mfobj\u001b[0m \u001b[1;33m=\u001b[0m \u001b[0mopen\u001b[0m\u001b[1;33m(\u001b[0m\u001b[0mfname\u001b[0m\u001b[1;33m,\u001b[0m \u001b[0mmode\u001b[0m\u001b[1;33m)\u001b[0m\u001b[1;33m\u001b[0m\u001b[1;33m\u001b[0m\u001b[0m\n\u001b[0m\u001b[0;32m    151\u001b[0m         \u001b[0mclose\u001b[0m \u001b[1;33m=\u001b[0m \u001b[1;32mTrue\u001b[0m\u001b[1;33m\u001b[0m\u001b[1;33m\u001b[0m\u001b[0m\n\u001b[0;32m    152\u001b[0m     \u001b[1;32melif\u001b[0m \u001b[0mhasattr\u001b[0m\u001b[1;33m(\u001b[0m\u001b[0mfname\u001b[0m\u001b[1;33m,\u001b[0m \u001b[1;34m'write'\u001b[0m\u001b[1;33m)\u001b[0m\u001b[1;33m:\u001b[0m\u001b[1;33m\u001b[0m\u001b[1;33m\u001b[0m\u001b[0m\n",
      "\u001b[1;31mPermissionError\u001b[0m: [Errno 13] Permission denied: 'Membertree.pdf'"
     ]
    }
   ],
   "source": [
    "import os\n",
    "\n",
    "os.environ['PATH'] = os.environ['PATH']+';'+os.environ['CONDA_PREFIX']+r\"\\Library\\bin\\graphviz\"\n",
    "\n",
    "#don't worry about the codes\n",
    "dt2_feature_names = list(X2.columns)\n",
    "dt2_target_names = np.array(Y2.unique(),dtype=np.str) \n",
    "tree.export_graphviz(dt2, out_file='Membertree.dot', \n",
    "    feature_names=dt2_feature_names, class_names=dt2_target_names,\n",
    "    filled=True)  \n",
    "graph = pydotplus.graph_from_dot_file('Membertree.dot')\n",
    "Image(graph.create_png())\n",
    "graph.write_pdf(\"Membertree.pdf\")"
   ]
  },
  {
   "cell_type": "markdown",
   "metadata": {},
   "source": [
    "In this second machine learning model, the alogorithym selected credit card use as the parameter most likely to predict if a consumer is or is not a member. After this intial watershed, rating and total are the next best predictors with members rating their experience slightly higher and spending less money. These two factors may indicate that the store is offering deals to members which make them buy products at lower prices which reduces their average spending but increases their satisfaction. Although it is somewhat trivial to interpret this chart as predicting whether someone is a member, it can be informative if we interpret it as showing the factors most likely to make someone interested in joining the membership program. "
   ]
  },
  {
   "cell_type": "markdown",
   "metadata": {},
   "source": [
    "## Conclusions"
   ]
  },
  {
   "cell_type": "markdown",
   "metadata": {},
   "source": [
    "The trends we found in our data analysis and visualization are facinting, but are limited in their ability to inform business action. Because this data set was highly cleaned, we were not able to see the exact products that were purchased; we only had access to the product line of the transaction. This means we were not able to see if key products within each sector were driving purchases or had unique trends seperate from the product line as a whole. This limits our ability to market in a strategic way within each product category. Another limitation of this analysis is in extrapolation. This data was only collected at three supermarkets in Myanmar which is not a sample size large enough to generalize these trends to all consumers in Myanmar or emerging markets at large. Despite these limitation, this anaysis challenged our preconceptions about purchasing trends and offered an interesting look into the consumable product market landscape of Myanmar."
   ]
  },
  {
   "cell_type": "code",
   "execution_count": null,
   "metadata": {},
   "outputs": [],
   "source": []
  }
 ],
 "metadata": {
  "kernelspec": {
   "display_name": "Python 3",
   "language": "python",
   "name": "python3"
  },
  "language_info": {
   "codemirror_mode": {
    "name": "ipython",
    "version": 3
   },
   "file_extension": ".py",
   "mimetype": "text/x-python",
   "name": "python",
   "nbconvert_exporter": "python",
   "pygments_lexer": "ipython3",
   "version": "3.7.3"
  }
 },
 "nbformat": 4,
 "nbformat_minor": 2
}
